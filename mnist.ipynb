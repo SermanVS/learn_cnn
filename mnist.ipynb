{
 "cells": [
  {
   "cell_type": "code",
   "execution_count": 1,
   "id": "4e31c943",
   "metadata": {},
   "outputs": [],
   "source": [
    "import torch"
   ]
  },
  {
   "cell_type": "code",
   "execution_count": 2,
   "id": "df6acc50",
   "metadata": {},
   "outputs": [
    {
     "data": {
      "text/plain": [
       "device(type='cpu')"
      ]
     },
     "execution_count": 2,
     "metadata": {},
     "output_type": "execute_result"
    }
   ],
   "source": [
    "device = torch.device('cuda' if torch.cuda.is_available() else 'cpu')\n",
    "device"
   ]
  },
  {
   "cell_type": "code",
   "execution_count": 3,
   "id": "346555b7",
   "metadata": {},
   "outputs": [],
   "source": [
    "from torchvision import datasets\n",
    "from torchvision.transforms import ToTensor"
   ]
  },
  {
   "cell_type": "code",
   "execution_count": 4,
   "id": "ddb2757f",
   "metadata": {},
   "outputs": [],
   "source": [
    "train_data = datasets.MNIST(\n",
    "    root = 'data',\n",
    "    train = True,                         \n",
    "    transform = ToTensor(), \n",
    "    download = True,            \n",
    ")\n",
    "test_data = datasets.MNIST(\n",
    "    root = 'data', \n",
    "    train = False, \n",
    "    transform = ToTensor()\n",
    ")"
   ]
  },
  {
   "cell_type": "code",
   "execution_count": 5,
   "id": "0fe4af23",
   "metadata": {},
   "outputs": [
    {
     "name": "stdout",
     "output_type": "stream",
     "text": [
      "Dataset MNIST\n",
      "    Number of datapoints: 60000\n",
      "    Root location: data\n",
      "    Split: Train\n",
      "    StandardTransform\n",
      "Transform: ToTensor()\n"
     ]
    }
   ],
   "source": [
    "print(train_data)"
   ]
  },
  {
   "cell_type": "code",
   "execution_count": 6,
   "id": "aab0cf88",
   "metadata": {},
   "outputs": [
    {
     "name": "stdout",
     "output_type": "stream",
     "text": [
      "Dataset MNIST\n",
      "    Number of datapoints: 10000\n",
      "    Root location: data\n",
      "    Split: Test\n",
      "    StandardTransform\n",
      "Transform: ToTensor()\n"
     ]
    }
   ],
   "source": [
    "print(test_data)"
   ]
  },
  {
   "cell_type": "code",
   "execution_count": 7,
   "id": "2a8972e5",
   "metadata": {},
   "outputs": [
    {
     "data": {
      "image/png": "[encoded data removed]",
      "text/plain": [
       "<Figure size 1000x800 with 25 Axes>"
      ]
     },
     "metadata": {
      "needs_background": "light"
     },
     "output_type": "display_data"
    }
   ],
   "source": [
    "import matplotlib.pyplot as plt\n",
    "\n",
    "figure = plt.figure(figsize=(10, 8), dpi=100)\n",
    "cols, rows = 5, 5\n",
    "for i in range(1, cols * rows + 1):\n",
    "    sample_idx = torch.randint(len(train_data), size=(1,)).item()\n",
    "    img, label = train_data[sample_idx]\n",
    "    figure.add_subplot(rows, cols, i)\n",
    "    plt.title(label)\n",
    "    plt.axis(\"off\")\n",
    "    plt.imshow(img.squeeze(), cmap=\"gray\")\n",
    "plt.show()"
   ]
  },
  {
   "cell_type": "code",
   "execution_count": 8,
   "id": "fcb4972f",
   "metadata": {},
   "outputs": [],
   "source": [
    "from torch.utils.data import DataLoader"
   ]
  },
  {
   "cell_type": "code",
   "execution_count": 9,
   "id": "8a622a99",
   "metadata": {},
   "outputs": [
    {
     "data": {
      "text/plain": [
       "{'train': <torch.utils.data.dataloader.DataLoader at 0x17a6cebd190>,\n",
       " 'test': <torch.utils.data.dataloader.DataLoader at 0x17a6cebd7c0>}"
      ]
     },
     "execution_count": 9,
     "metadata": {},
     "output_type": "execute_result"
    }
   ],
   "source": [
    "loaders = {\n",
    "    'train' : torch.utils.data.DataLoader(train_data, \n",
    "                                          batch_size=100, \n",
    "                                          shuffle=True, \n",
    "                                          num_workers=1),\n",
    "    \n",
    "    'test'  : torch.utils.data.DataLoader(test_data, \n",
    "                                          batch_size=100, \n",
    "                                          shuffle=True, \n",
    "                                          num_workers=1),\n",
    "}\n",
    "loaders"
   ]
  },
  {
   "cell_type": "code",
   "execution_count": 10,
   "id": "e40ec3db",
   "metadata": {},
   "outputs": [],
   "source": [
    "import torch.nn as nn\n",
    "class CNN(nn.Module):\n",
    "    def __init__(self):\n",
    "        super(CNN, self).__init__()        \n",
    "        self.conv1 = nn.Sequential(         \n",
    "            nn.Conv2d(\n",
    "                in_channels=1,              \n",
    "                out_channels=16,            \n",
    "                kernel_size=5,              \n",
    "                stride=1,                   \n",
    "                padding=2,                  \n",
    "            ),                              \n",
    "            nn.ReLU(),                      \n",
    "            nn.MaxPool2d(kernel_size=2),    \n",
    "        )\n",
    "        self.conv2 = nn.Sequential(         \n",
    "            nn.Conv2d(16, 32, 5, 1, 2),     \n",
    "            nn.ReLU(),                      \n",
    "            nn.MaxPool2d(2),                \n",
    "        )        \n",
    "        \n",
    "        # fully connected layer, output 10 classes\n",
    "        self.out = nn.Linear(32 * 7 * 7, 10)    \n",
    "    def forward(self, x):\n",
    "        x = self.conv1(x)\n",
    "        x = self.conv2(x)        \n",
    "        \n",
    "        # flatten the output of conv2 to (batch_size, 32 * 7 * 7)\n",
    "        x = x.view(x.size(0), -1)       \n",
    "        output = self.out(x)\n",
    "        return output, x    "
   ]
  },
  {
   "cell_type": "code",
   "execution_count": 11,
   "id": "9ea6ff77",
   "metadata": {},
   "outputs": [
    {
     "name": "stdout",
     "output_type": "stream",
     "text": [
      "CNN(\n",
      "  (conv1): Sequential(\n",
      "    (0): Conv2d(1, 16, kernel_size=(5, 5), stride=(1, 1), padding=(2, 2))\n",
      "    (1): ReLU()\n",
      "    (2): MaxPool2d(kernel_size=2, stride=2, padding=0, dilation=1, ceil_mode=False)\n",
      "  )\n",
      "  (conv2): Sequential(\n",
      "    (0): Conv2d(16, 32, kernel_size=(5, 5), stride=(1, 1), padding=(2, 2))\n",
      "    (1): ReLU()\n",
      "    (2): MaxPool2d(kernel_size=2, stride=2, padding=0, dilation=1, ceil_mode=False)\n",
      "  )\n",
      "  (out): Linear(in_features=1568, out_features=10, bias=True)\n",
      ")\n"
     ]
    }
   ],
   "source": [
    "cnn = CNN()\n",
    "print(cnn)"
   ]
  },
  {
   "cell_type": "code",
   "execution_count": 12,
   "id": "c5d10fb6",
   "metadata": {},
   "outputs": [
    {
     "data": {
      "text/plain": [
       "CrossEntropyLoss()"
      ]
     },
     "execution_count": 12,
     "metadata": {},
     "output_type": "execute_result"
    }
   ],
   "source": [
    "loss_func = nn.CrossEntropyLoss()   \n",
    "loss_func"
   ]
  },
  {
   "cell_type": "code",
   "execution_count": 13,
   "id": "c7e3e97b",
   "metadata": {},
   "outputs": [
    {
     "data": {
      "text/plain": [
       "Adam (\n",
       "Parameter Group 0\n",
       "    amsgrad: False\n",
       "    betas: (0.9, 0.999)\n",
       "    eps: 1e-08\n",
       "    lr: 0.01\n",
       "    weight_decay: 0\n",
       ")"
      ]
     },
     "execution_count": 13,
     "metadata": {},
     "output_type": "execute_result"
    }
   ],
   "source": [
    "from torch import optim\n",
    "optimizer = optim.Adam(cnn.parameters(), lr = 0.01)   \n",
    "optimizer"
   ]
  },
  {
   "cell_type": "code",
   "execution_count": 14,
   "id": "a8f88585",
   "metadata": {},
   "outputs": [
    {
     "name": "stdout",
     "output_type": "stream",
     "text": [
      "Epoch [1/10], Step [100/600], Loss: 0.0722\n",
      "Epoch [1/10], Step [200/600], Loss: 0.0649\n",
      "Epoch [1/10], Step [300/600], Loss: 0.0568\n",
      "Epoch [1/10], Step [400/600], Loss: 0.0707\n",
      "Epoch [1/10], Step [500/600], Loss: 0.0806\n",
      "Epoch [1/10], Step [600/600], Loss: 0.0243\n",
      "Epoch [2/10], Step [100/600], Loss: 0.0256\n",
      "Epoch [2/10], Step [200/600], Loss: 0.0129\n",
      "Epoch [2/10], Step [300/600], Loss: 0.0378\n",
      "Epoch [2/10], Step [400/600], Loss: 0.0648\n",
      "Epoch [2/10], Step [500/600], Loss: 0.0079\n",
      "Epoch [2/10], Step [600/600], Loss: 0.0434\n",
      "Epoch [3/10], Step [100/600], Loss: 0.0794\n",
      "Epoch [3/10], Step [200/600], Loss: 0.0559\n",
      "Epoch [3/10], Step [300/600], Loss: 0.0267\n",
      "Epoch [3/10], Step [400/600], Loss: 0.0763\n",
      "Epoch [3/10], Step [500/600], Loss: 0.0241\n",
      "Epoch [3/10], Step [600/600], Loss: 0.1048\n",
      "Epoch [4/10], Step [100/600], Loss: 0.0172\n",
      "Epoch [4/10], Step [200/600], Loss: 0.0284\n",
      "Epoch [4/10], Step [300/600], Loss: 0.0227\n",
      "Epoch [4/10], Step [400/600], Loss: 0.0202\n",
      "Epoch [4/10], Step [500/600], Loss: 0.0615\n",
      "Epoch [4/10], Step [600/600], Loss: 0.0209\n",
      "Epoch [5/10], Step [100/600], Loss: 0.1352\n",
      "Epoch [5/10], Step [200/600], Loss: 0.0094\n",
      "Epoch [5/10], Step [300/600], Loss: 0.0385\n",
      "Epoch [5/10], Step [400/600], Loss: 0.0614\n",
      "Epoch [5/10], Step [500/600], Loss: 0.0169\n",
      "Epoch [5/10], Step [600/600], Loss: 0.0053\n",
      "Epoch [6/10], Step [100/600], Loss: 0.0044\n",
      "Epoch [6/10], Step [200/600], Loss: 0.0071\n",
      "Epoch [6/10], Step [300/600], Loss: 0.0232\n",
      "Epoch [6/10], Step [400/600], Loss: 0.0768\n",
      "Epoch [6/10], Step [500/600], Loss: 0.0345\n",
      "Epoch [6/10], Step [600/600], Loss: 0.0084\n",
      "Epoch [7/10], Step [100/600], Loss: 0.0704\n",
      "Epoch [7/10], Step [200/600], Loss: 0.0360\n",
      "Epoch [7/10], Step [300/600], Loss: 0.0238\n",
      "Epoch [7/10], Step [400/600], Loss: 0.0685\n",
      "Epoch [7/10], Step [500/600], Loss: 0.0646\n",
      "Epoch [7/10], Step [600/600], Loss: 0.1083\n",
      "Epoch [8/10], Step [100/600], Loss: 0.0084\n",
      "Epoch [8/10], Step [200/600], Loss: 0.1430\n",
      "Epoch [8/10], Step [300/600], Loss: 0.0010\n",
      "Epoch [8/10], Step [400/600], Loss: 0.0697\n",
      "Epoch [8/10], Step [500/600], Loss: 0.0016\n",
      "Epoch [8/10], Step [600/600], Loss: 0.0006\n",
      "Epoch [9/10], Step [100/600], Loss: 0.0485\n",
      "Epoch [9/10], Step [200/600], Loss: 0.0337\n",
      "Epoch [9/10], Step [300/600], Loss: 0.0756\n",
      "Epoch [9/10], Step [400/600], Loss: 0.0551\n",
      "Epoch [9/10], Step [500/600], Loss: 0.0636\n",
      "Epoch [9/10], Step [600/600], Loss: 0.0305\n",
      "Epoch [10/10], Step [100/600], Loss: 0.0002\n",
      "Epoch [10/10], Step [200/600], Loss: 0.0004\n",
      "Epoch [10/10], Step [300/600], Loss: 0.1111\n",
      "Epoch [10/10], Step [400/600], Loss: 0.0463\n",
      "Epoch [10/10], Step [500/600], Loss: 0.0739\n",
      "Epoch [10/10], Step [600/600], Loss: 0.0912\n"
     ]
    }
   ],
   "source": [
    "from torch.autograd import Variable\n",
    "num_epochs = 10\n",
    "\n",
    "def train(num_epochs, cnn, loaders):  \n",
    "    cnn.train()\n",
    "        \n",
    "    # Train the model\n",
    "    total_step = len(loaders['train'])\n",
    "        \n",
    "    for epoch in range(num_epochs):\n",
    "        for i, (images, labels) in enumerate(loaders['train']):\n",
    "            \n",
    "            # gives batch data, normalize x when iterate train_loader\n",
    "            b_x = Variable(images)   # batch x\n",
    "            b_y = Variable(labels)   # batch y\n",
    "            output = cnn(b_x)[0]               \n",
    "            loss = loss_func(output, b_y)\n",
    "            \n",
    "            # clear gradients for this training step   \n",
    "            optimizer.zero_grad()           \n",
    "            \n",
    "            # backpropagation, compute gradients \n",
    "            loss.backward()                # apply gradients             \n",
    "            optimizer.step()                \n",
    "            \n",
    "            if (i+1) % 100 == 0:\n",
    "                print ('Epoch [{}/{}], Step [{}/{}], Loss: {:.4f}' \n",
    "                       .format(epoch + 1, num_epochs, i + 1, total_step, loss.item()))              \n",
    "                pass\n",
    "        \n",
    "        pass\n",
    "    \n",
    "    \n",
    "    pass\n",
    "\n",
    "train(num_epochs, cnn, loaders)"
   ]
  },
  {
   "cell_type": "code",
   "execution_count": 15,
   "id": "ea9cab87",
   "metadata": {},
   "outputs": [
    {
     "name": "stdout",
     "output_type": "stream",
     "text": [
      "Test Accuracy of the model on the 10000 test images: 0.99\n"
     ]
    }
   ],
   "source": [
    "def test():\n",
    "    # Test the model\n",
    "    cnn.eval()    \n",
    "    with torch.no_grad():\n",
    "        correct = 0\n",
    "        total = 0\n",
    "        for images, labels in loaders['test']:\n",
    "            test_output, last_layer = cnn(images)\n",
    "            pred_y = torch.max(test_output, 1)[1].data.squeeze()\n",
    "            accuracy = (pred_y == labels).sum().item() / float(labels.size(0))\n",
    "            pass\n",
    "        print('Test Accuracy of the model on the 10000 test images: %.2f' % accuracy)\n",
    "    \n",
    "    pass\n",
    "test()"
   ]
  },
  {
   "cell_type": "code",
   "execution_count": 16,
   "id": "d38c9a4b",
   "metadata": {},
   "outputs": [],
   "source": [
    "sample = next(iter(loaders['test']))\n",
    "imgs, lbls = sample"
   ]
  },
  {
   "cell_type": "code",
   "execution_count": 17,
   "id": "f45bbbde",
   "metadata": {},
   "outputs": [
    {
     "data": {
      "text/plain": [
       "array([7, 5, 0, 3, 1, 1, 4, 4, 0, 3], dtype=int64)"
      ]
     },
     "execution_count": 17,
     "metadata": {},
     "output_type": "execute_result"
    }
   ],
   "source": [
    "actual_number = lbls[:10].numpy()\n",
    "actual_number"
   ]
  },
  {
   "cell_type": "code",
   "execution_count": 18,
   "id": "7d8824ad",
   "metadata": {},
   "outputs": [
    {
     "name": "stdout",
     "output_type": "stream",
     "text": [
      "Prediction number: [7 5 0 3 1 1 4 4 0 3]\n",
      "Actual number: [7 5 0 3 1 1 4 4 0 3]\n"
     ]
    }
   ],
   "source": [
    "test_output, last_layer = cnn(imgs[:10])\n",
    "pred_y = torch.max(test_output, 1)[1].data.numpy().squeeze()\n",
    "print(f'Prediction number: {pred_y}')\n",
    "print(f'Actual number: {actual_number}')"
   ]
  }
 ],
 "metadata": {
  "kernelspec": {
   "display_name": "Python 3 (ipykernel)",
   "language": "python",
   "name": "python3"
  },
  "language_info": {
   "codemirror_mode": {
    "name": "ipython",
    "version": 3
   },
   "file_extension": ".py",
   "mimetype": "text/x-python",
   "name": "python",
   "nbconvert_exporter": "python",
   "pygments_lexer": "ipython3",
   "version": "3.8.13"
  }
 },
 "nbformat": 4,
 "nbformat_minor": 5
}
